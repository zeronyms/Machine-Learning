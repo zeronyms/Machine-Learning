{
  "nbformat": 4,
  "nbformat_minor": 0,
  "metadata": {
    "colab": {
      "provenance": []
    },
    "kernelspec": {
      "name": "python3",
      "display_name": "Python 3"
    },
    "language_info": {
      "name": "python"
    }
  },
  "cells": [
    {
      "cell_type": "markdown",
      "source": [
        "Hello World <br>\n",
        "GEMASTIK 2024 <br>\n",
        "T34M 3"
      ],
      "metadata": {
        "id": "QkHtcZqapDi9"
      }
    },
    {
      "cell_type": "markdown",
      "source": [
        "# Dataset"
      ],
      "metadata": {
        "id": "gJSESCrPmRha"
      }
    },
    {
      "cell_type": "markdown",
      "source": [
        "## Downloading Dataset"
      ],
      "metadata": {
        "id": "w-lgJbVZ343E"
      }
    },
    {
      "cell_type": "markdown",
      "source": [
        "Link dataset: https://www.kaggle.com/datasets/divyam6969/chest-xray-pneumonia-dataset/data\n",
        "\n",
        "kaggle datasets download -d divyam6969/chest-xray-pneumonia-dataset\n",
        "\n"
      ],
      "metadata": {
        "id": "J42aMpqqpP29"
      }
    },
    {
      "cell_type": "code",
      "execution_count": null,
      "metadata": {
        "colab": {
          "base_uri": "https://localhost:8080/"
        },
        "id": "zvPcGXcHmC5H",
        "outputId": "184551ab-65b7-4de1-cc13-4eed4c584167"
      },
      "outputs": [
        {
          "output_type": "stream",
          "name": "stdout",
          "text": [
            "Drive already mounted at /content/drive; to attempt to forcibly remount, call drive.mount(\"/content/drive\", force_remount=True).\n"
          ]
        }
      ],
      "source": [
        "from google.colab import drive\n",
        "drive.mount('/content/drive')"
      ]
    },
    {
      "cell_type": "code",
      "source": [
        "import os\n",
        "os.environ['KAGGLE_CONFIG_DIR'] = '/content/drive/MyDrive/kaggle'"
      ],
      "metadata": {
        "id": "P8-_SZGWmV95"
      },
      "execution_count": null,
      "outputs": []
    },
    {
      "cell_type": "code",
      "source": [
        "!kaggle datasets download -d divyam6969/chest-xray-pneumonia-dataset"
      ],
      "metadata": {
        "id": "cNeQsX7ipCOS",
        "colab": {
          "base_uri": "https://localhost:8080/"
        },
        "outputId": "56dc2fd5-f87d-445f-f4f8-495b00a88fd6"
      },
      "execution_count": null,
      "outputs": [
        {
          "output_type": "stream",
          "name": "stdout",
          "text": [
            "Dataset URL: https://www.kaggle.com/datasets/divyam6969/chest-xray-pneumonia-dataset\n",
            "License(s): MIT\n",
            "chest-xray-pneumonia-dataset.zip: Skipping, found more recently modified local copy (use --force to force download)\n"
          ]
        }
      ]
    },
    {
      "cell_type": "code",
      "source": [
        "import zipfile\n",
        "\n",
        "# Define the path to your zip file\n",
        "file_path = '/content/chest-xray-pneumonia-dataset.zip'  # Replace 'your_file.zip' with your file's name\n",
        "\n",
        "# Unzip the file to a specific destination\n",
        "with zipfile.ZipFile(file_path, 'r') as zip_ref:\n",
        "    zip_ref.extractall('/content/drive/MyDrive/kaggle/Pneumonia Image')  # Replace 'destination_folder' with your desired folder\n"
      ],
      "metadata": {
        "id": "d-du9kRkpCLr"
      },
      "execution_count": null,
      "outputs": []
    },
    {
      "cell_type": "markdown",
      "source": [
        "## Load Dataset"
      ],
      "metadata": {
        "id": "_umcLcQi37_f"
      }
    },
    {
      "cell_type": "code",
      "source": [],
      "metadata": {
        "id": "UxemeEnDpCJM"
      },
      "execution_count": null,
      "outputs": []
    },
    {
      "cell_type": "code",
      "source": [],
      "metadata": {
        "id": "Aq4Bpo8HpCGm"
      },
      "execution_count": null,
      "outputs": []
    },
    {
      "cell_type": "code",
      "source": [],
      "metadata": {
        "id": "N_QTX6HDpCD_"
      },
      "execution_count": null,
      "outputs": []
    },
    {
      "cell_type": "code",
      "source": [],
      "metadata": {
        "id": "he3WTXqypCBw"
      },
      "execution_count": null,
      "outputs": []
    },
    {
      "cell_type": "code",
      "source": [],
      "metadata": {
        "id": "d0-mlcMOpB_a"
      },
      "execution_count": null,
      "outputs": []
    },
    {
      "cell_type": "code",
      "source": [],
      "metadata": {
        "id": "Qxj2sM8QpB81"
      },
      "execution_count": null,
      "outputs": []
    },
    {
      "cell_type": "code",
      "source": [],
      "metadata": {
        "id": "azDx3P8zpB40"
      },
      "execution_count": null,
      "outputs": []
    },
    {
      "cell_type": "code",
      "source": [],
      "metadata": {
        "id": "5t-HNQRrpBxp"
      },
      "execution_count": null,
      "outputs": []
    }
  ]
}